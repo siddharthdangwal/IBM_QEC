{
 "cells": [
  {
   "cell_type": "markdown",
   "metadata": {},
   "source": [
    "### Make a heavy Hex Code in Stim ###"
   ]
  },
  {
   "cell_type": "code",
   "execution_count": null,
   "metadata": {},
   "outputs": [],
   "source": [
    "import os\n",
    "import stim\n",
    "import sinter\n",
    "import pymatching\n",
    "import numpy as np\n",
    "import matplotlib.pyplot as plt\n",
    "\n",
    "\n",
    "from heavy_hex_code import HeavyHexCode"
   ]
  },
  {
   "cell_type": "code",
   "execution_count": null,
   "metadata": {},
   "outputs": [],
   "source": [
    "CODE_DISTANCE=11\n",
    "NUM_ROUNDS=7\n",
    "BASIS='Z'\n",
    "p_err=1e-3\n",
    "\n",
    "hhc=HeavyHexCode(\n",
    "    code_distance=CODE_DISTANCE,\n",
    "    num_rounds=NUM_ROUNDS,\n",
    "    basis=BASIS,\n",
    "    after_clifford_depolarization=p_err,\n",
    "    after_reset_flip_probability=p_err,\n",
    "    before_measure_flip_probability=p_err,\n",
    "    before_round_data_depolarization=p_err,\n",
    ")\n",
    "\n",
    "circuit_block=hhc.create_heavy_hex_code()\n",
    "stim_hhc=stim.Circuit(circuit_block)\n",
    "\n",
    "# preliminary checks\n",
    "assert stim_hhc.count_determined_measurements()==stim_hhc.num_detectors+stim_hhc.num_observables"
   ]
  },
  {
   "cell_type": "code",
   "execution_count": null,
   "metadata": {},
   "outputs": [],
   "source": [
    "dem=stim_hhc.detector_error_model(decompose_errors=True)"
   ]
  },
  {
   "cell_type": "markdown",
   "metadata": {},
   "source": [
    "### Threshold the code ###"
   ]
  },
  {
   "cell_type": "code",
   "execution_count": null,
   "metadata": {},
   "outputs": [],
   "source": [
    "ds = [3, 5, 7, 9, 11]\n",
    "ps = np.geomspace(1e-4, 1e-2, 7)\n",
    "tasks = []\n",
    "for d in ds:\n",
    "    for p in ps:\n",
    "        circuit = HeavyHexCode(\n",
    "            code_distance=d,\n",
    "            num_rounds=d,\n",
    "            basis='X',\n",
    "            after_clifford_depolarization=p,\n",
    "            after_reset_flip_probability=p,\n",
    "            before_measure_flip_probability=p,\n",
    "            before_round_data_depolarization=p,\n",
    "        )\n",
    "        circuit_block = circuit.create_heavy_hex_code()\n",
    "        circ_heavyhex = stim.Circuit(circuit_block)\n",
    "        tasks.append(sinter.Task(\n",
    "            circuit=circ_heavyhex,\n",
    "            json_metadata={'d': d, 'p': p, 'name':f'heavy hex d={d}'}\n",
    "        ))\n",
    "\n",
    "        circ_surface = stim.Circuit.generated(\n",
    "            code_task=f'surface_code:rotated_memory_z',\n",
    "            rounds=d,\n",
    "            distance=d,\n",
    "            after_clifford_depolarization=p,\n",
    "            before_measure_flip_probability=p,\n",
    "        )\n",
    "        tasks.append(sinter.Task(\n",
    "            circuit=circ_surface,\n",
    "            json_metadata={'p':p, 'd':d, 'name':f'surface d={d}'},\n",
    "        ))\n",
    "\n",
    "stats = sinter.collect(\n",
    "    num_workers=os.cpu_count()-2,\n",
    "    tasks=tasks,\n",
    "    max_shots=10**7,\n",
    "    max_errors=1000,\n",
    "    print_progress=True,\n",
    "    decoders='pymatching'\n",
    ")"
   ]
  },
  {
   "cell_type": "code",
   "execution_count": null,
   "metadata": {},
   "outputs": [],
   "source": [
    "fig,ax = plt.subplots()\n",
    "sinter.plot_error_rate(\n",
    "    ax=ax,\n",
    "    stats=stats,\n",
    "    group_func=lambda task: task.json_metadata['name'],\n",
    "    x_func=lambda task: task.json_metadata['p']\n",
    ")\n",
    "ax.legend()\n",
    "ax.loglog()\n",
    "plt.show()"
   ]
  },
  {
   "cell_type": "code",
   "execution_count": null,
   "metadata": {},
   "outputs": [],
   "source": []
  }
 ],
 "metadata": {
  "kernelspec": {
   "display_name": "h_decoder",
   "language": "python",
   "name": "python3"
  },
  "language_info": {
   "codemirror_mode": {
    "name": "ipython",
    "version": 3
   },
   "file_extension": ".py",
   "mimetype": "text/x-python",
   "name": "python",
   "nbconvert_exporter": "python",
   "pygments_lexer": "ipython3",
   "version": "3.11.5"
  }
 },
 "nbformat": 4,
 "nbformat_minor": 2
}
